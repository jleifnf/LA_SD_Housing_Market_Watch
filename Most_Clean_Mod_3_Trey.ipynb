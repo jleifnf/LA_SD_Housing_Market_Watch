{
 "cells": [
  {
   "cell_type": "code",
   "execution_count": 297,
   "metadata": {},
   "outputs": [],
   "source": [
    "import pandas as pd\n",
    "import seaborn as sns \n",
    "import matplotlib.pyplot as plt \n",
    "import scipy \n",
    "from scipy.stats import norm\n",
    "import numpy as np\n",
    "import math\n",
    "\n",
    "df = pd.read_csv('most_clean_data.csv')"
   ]
  },
  {
   "cell_type": "code",
   "execution_count": 2,
   "metadata": {},
   "outputs": [
    {
     "name": "stdout",
     "output_type": "stream",
     "text": [
      "<class 'pandas.core.frame.DataFrame'>\n",
      "RangeIndex: 379474 entries, 0 to 379473\n",
      "Data columns (total 12 columns):\n",
      "CountyOrParish      379474 non-null object\n",
      "CloseDate           379474 non-null object\n",
      "OnMarketDate        379474 non-null object\n",
      "ListPrice           379474 non-null float64\n",
      "Matrix_Unique_ID    379474 non-null int64\n",
      "ClosePrice          379474 non-null float64\n",
      "OnMarketDays        379474 non-null int64\n",
      "CloseYearWeek       379474 non-null object\n",
      "PriceDifference     379474 non-null float64\n",
      "PriceRatio          379474 non-null float64\n",
      "PriceDiffRatio      379474 non-null float64\n",
      "SixtyDays           379474 non-null object\n",
      "dtypes: float64(5), int64(2), object(5)\n",
      "memory usage: 34.7+ MB\n"
     ]
    }
   ],
   "source": [
    "df.info()"
   ]
  },
  {
   "cell_type": "code",
   "execution_count": 291,
   "metadata": {},
   "outputs": [
    {
     "data": {
      "text/plain": [
       "73.21376958632212"
      ]
     },
     "execution_count": 291,
     "metadata": {},
     "output_type": "execute_result"
    }
   ],
   "source": [
    "df = df[df['OnMarketDays'] > 0]\n",
    "\n",
    "df.head()\n",
    "\n",
    "full_df = df.OnMarketDays\n",
    "\n",
    "full_df.mean()"
   ]
  },
  {
   "cell_type": "markdown",
   "metadata": {},
   "source": [
    "## Seperating DataFrames by County"
   ]
  },
  {
   "cell_type": "code",
   "execution_count": 4,
   "metadata": {},
   "outputs": [],
   "source": [
    "df_SD = df.groupby('CountyOrParish').get_group('San Diego')"
   ]
  },
  {
   "cell_type": "code",
   "execution_count": 5,
   "metadata": {
    "scrolled": false
   },
   "outputs": [
    {
     "data": {
      "text/html": [
       "<div>\n",
       "<style scoped>\n",
       "    .dataframe tbody tr th:only-of-type {\n",
       "        vertical-align: middle;\n",
       "    }\n",
       "\n",
       "    .dataframe tbody tr th {\n",
       "        vertical-align: top;\n",
       "    }\n",
       "\n",
       "    .dataframe thead th {\n",
       "        text-align: right;\n",
       "    }\n",
       "</style>\n",
       "<table border=\"1\" class=\"dataframe\">\n",
       "  <thead>\n",
       "    <tr style=\"text-align: right;\">\n",
       "      <th></th>\n",
       "      <th>CountyOrParish</th>\n",
       "      <th>CloseDate</th>\n",
       "      <th>OnMarketDate</th>\n",
       "      <th>ListPrice</th>\n",
       "      <th>Matrix_Unique_ID</th>\n",
       "      <th>ClosePrice</th>\n",
       "      <th>OnMarketDays</th>\n",
       "      <th>CloseYearWeek</th>\n",
       "      <th>PriceDifference</th>\n",
       "      <th>PriceRatio</th>\n",
       "      <th>PriceDiffRatio</th>\n",
       "      <th>SixtyDays</th>\n",
       "    </tr>\n",
       "  </thead>\n",
       "  <tbody>\n",
       "    <tr>\n",
       "      <td>1</td>\n",
       "      <td>San Diego</td>\n",
       "      <td>2015-01-01</td>\n",
       "      <td>2014-04-25</td>\n",
       "      <td>385000.0</td>\n",
       "      <td>300621302</td>\n",
       "      <td>385000.0</td>\n",
       "      <td>251</td>\n",
       "      <td>2015 - 01</td>\n",
       "      <td>0.0</td>\n",
       "      <td>1.000000</td>\n",
       "      <td>0.000000</td>\n",
       "      <td>&gt; 60 days</td>\n",
       "    </tr>\n",
       "    <tr>\n",
       "      <td>109</td>\n",
       "      <td>San Diego</td>\n",
       "      <td>2015-01-02</td>\n",
       "      <td>2014-06-02</td>\n",
       "      <td>844000.0</td>\n",
       "      <td>300582040</td>\n",
       "      <td>805000.0</td>\n",
       "      <td>214</td>\n",
       "      <td>2015 - 01</td>\n",
       "      <td>-39000.0</td>\n",
       "      <td>0.953791</td>\n",
       "      <td>-0.046209</td>\n",
       "      <td>&gt; 60 days</td>\n",
       "    </tr>\n",
       "    <tr>\n",
       "      <td>112</td>\n",
       "      <td>San Diego</td>\n",
       "      <td>2015-01-02</td>\n",
       "      <td>2014-10-09</td>\n",
       "      <td>925000.0</td>\n",
       "      <td>300507825</td>\n",
       "      <td>920000.0</td>\n",
       "      <td>85</td>\n",
       "      <td>2015 - 01</td>\n",
       "      <td>-5000.0</td>\n",
       "      <td>0.994595</td>\n",
       "      <td>-0.005405</td>\n",
       "      <td>&gt; 60 days</td>\n",
       "    </tr>\n",
       "    <tr>\n",
       "      <td>135</td>\n",
       "      <td>San Diego</td>\n",
       "      <td>2015-01-02</td>\n",
       "      <td>2014-11-14</td>\n",
       "      <td>519000.0</td>\n",
       "      <td>81091266</td>\n",
       "      <td>485000.0</td>\n",
       "      <td>49</td>\n",
       "      <td>2015 - 01</td>\n",
       "      <td>-34000.0</td>\n",
       "      <td>0.934489</td>\n",
       "      <td>-0.065511</td>\n",
       "      <td>&lt; 60 days</td>\n",
       "    </tr>\n",
       "    <tr>\n",
       "      <td>139</td>\n",
       "      <td>San Diego</td>\n",
       "      <td>2015-01-02</td>\n",
       "      <td>2014-11-25</td>\n",
       "      <td>987700.0</td>\n",
       "      <td>300459816</td>\n",
       "      <td>925000.0</td>\n",
       "      <td>38</td>\n",
       "      <td>2015 - 01</td>\n",
       "      <td>-62700.0</td>\n",
       "      <td>0.936519</td>\n",
       "      <td>-0.063481</td>\n",
       "      <td>&lt; 60 days</td>\n",
       "    </tr>\n",
       "    <tr>\n",
       "      <td>...</td>\n",
       "      <td>...</td>\n",
       "      <td>...</td>\n",
       "      <td>...</td>\n",
       "      <td>...</td>\n",
       "      <td>...</td>\n",
       "      <td>...</td>\n",
       "      <td>...</td>\n",
       "      <td>...</td>\n",
       "      <td>...</td>\n",
       "      <td>...</td>\n",
       "      <td>...</td>\n",
       "      <td>...</td>\n",
       "    </tr>\n",
       "    <tr>\n",
       "      <td>379297</td>\n",
       "      <td>San Diego</td>\n",
       "      <td>2019-12-31</td>\n",
       "      <td>2019-11-26</td>\n",
       "      <td>1595000.0</td>\n",
       "      <td>325872910</td>\n",
       "      <td>1595000.0</td>\n",
       "      <td>35</td>\n",
       "      <td>2019 - 53</td>\n",
       "      <td>0.0</td>\n",
       "      <td>1.000000</td>\n",
       "      <td>0.000000</td>\n",
       "      <td>&lt; 60 days</td>\n",
       "    </tr>\n",
       "    <tr>\n",
       "      <td>379298</td>\n",
       "      <td>San Diego</td>\n",
       "      <td>2019-12-31</td>\n",
       "      <td>2019-12-02</td>\n",
       "      <td>1500000.0</td>\n",
       "      <td>326061038</td>\n",
       "      <td>1960000.0</td>\n",
       "      <td>29</td>\n",
       "      <td>2019 - 53</td>\n",
       "      <td>460000.0</td>\n",
       "      <td>1.306667</td>\n",
       "      <td>0.306667</td>\n",
       "      <td>&lt; 60 days</td>\n",
       "    </tr>\n",
       "    <tr>\n",
       "      <td>379299</td>\n",
       "      <td>San Diego</td>\n",
       "      <td>2019-12-31</td>\n",
       "      <td>2019-11-19</td>\n",
       "      <td>545000.0</td>\n",
       "      <td>325600697</td>\n",
       "      <td>545000.0</td>\n",
       "      <td>42</td>\n",
       "      <td>2019 - 53</td>\n",
       "      <td>0.0</td>\n",
       "      <td>1.000000</td>\n",
       "      <td>0.000000</td>\n",
       "      <td>&lt; 60 days</td>\n",
       "    </tr>\n",
       "    <tr>\n",
       "      <td>379314</td>\n",
       "      <td>San Diego</td>\n",
       "      <td>2019-12-31</td>\n",
       "      <td>2019-12-03</td>\n",
       "      <td>580990.0</td>\n",
       "      <td>326010029</td>\n",
       "      <td>558490.0</td>\n",
       "      <td>28</td>\n",
       "      <td>2019 - 53</td>\n",
       "      <td>-22500.0</td>\n",
       "      <td>0.961273</td>\n",
       "      <td>-0.038727</td>\n",
       "      <td>&lt; 60 days</td>\n",
       "    </tr>\n",
       "    <tr>\n",
       "      <td>379318</td>\n",
       "      <td>San Diego</td>\n",
       "      <td>2019-12-31</td>\n",
       "      <td>2019-11-18</td>\n",
       "      <td>909000.0</td>\n",
       "      <td>325221268</td>\n",
       "      <td>910000.0</td>\n",
       "      <td>43</td>\n",
       "      <td>2019 - 53</td>\n",
       "      <td>1000.0</td>\n",
       "      <td>1.001100</td>\n",
       "      <td>0.001100</td>\n",
       "      <td>&lt; 60 days</td>\n",
       "    </tr>\n",
       "  </tbody>\n",
       "</table>\n",
       "<p>128343 rows × 12 columns</p>\n",
       "</div>"
      ],
      "text/plain": [
       "       CountyOrParish   CloseDate OnMarketDate  ListPrice  Matrix_Unique_ID  \\\n",
       "1           San Diego  2015-01-01   2014-04-25   385000.0         300621302   \n",
       "109         San Diego  2015-01-02   2014-06-02   844000.0         300582040   \n",
       "112         San Diego  2015-01-02   2014-10-09   925000.0         300507825   \n",
       "135         San Diego  2015-01-02   2014-11-14   519000.0          81091266   \n",
       "139         San Diego  2015-01-02   2014-11-25   987700.0         300459816   \n",
       "...               ...         ...          ...        ...               ...   \n",
       "379297      San Diego  2019-12-31   2019-11-26  1595000.0         325872910   \n",
       "379298      San Diego  2019-12-31   2019-12-02  1500000.0         326061038   \n",
       "379299      San Diego  2019-12-31   2019-11-19   545000.0         325600697   \n",
       "379314      San Diego  2019-12-31   2019-12-03   580990.0         326010029   \n",
       "379318      San Diego  2019-12-31   2019-11-18   909000.0         325221268   \n",
       "\n",
       "        ClosePrice  OnMarketDays CloseYearWeek  PriceDifference  PriceRatio  \\\n",
       "1         385000.0           251     2015 - 01              0.0    1.000000   \n",
       "109       805000.0           214     2015 - 01         -39000.0    0.953791   \n",
       "112       920000.0            85     2015 - 01          -5000.0    0.994595   \n",
       "135       485000.0            49     2015 - 01         -34000.0    0.934489   \n",
       "139       925000.0            38     2015 - 01         -62700.0    0.936519   \n",
       "...            ...           ...           ...              ...         ...   \n",
       "379297   1595000.0            35     2019 - 53              0.0    1.000000   \n",
       "379298   1960000.0            29     2019 - 53         460000.0    1.306667   \n",
       "379299    545000.0            42     2019 - 53              0.0    1.000000   \n",
       "379314    558490.0            28     2019 - 53         -22500.0    0.961273   \n",
       "379318    910000.0            43     2019 - 53           1000.0    1.001100   \n",
       "\n",
       "        PriceDiffRatio  SixtyDays  \n",
       "1             0.000000  > 60 days  \n",
       "109          -0.046209  > 60 days  \n",
       "112          -0.005405  > 60 days  \n",
       "135          -0.065511  < 60 days  \n",
       "139          -0.063481  < 60 days  \n",
       "...                ...        ...  \n",
       "379297        0.000000  < 60 days  \n",
       "379298        0.306667  < 60 days  \n",
       "379299        0.000000  < 60 days  \n",
       "379314       -0.038727  < 60 days  \n",
       "379318        0.001100  < 60 days  \n",
       "\n",
       "[128343 rows x 12 columns]"
      ]
     },
     "execution_count": 5,
     "metadata": {},
     "output_type": "execute_result"
    }
   ],
   "source": [
    "df_SD"
   ]
  },
  {
   "cell_type": "code",
   "execution_count": 6,
   "metadata": {},
   "outputs": [],
   "source": [
    "df_LA = df.groupby('CountyOrParish').get_group('Los Angeles')"
   ]
  },
  {
   "cell_type": "code",
   "execution_count": 178,
   "metadata": {},
   "outputs": [
    {
     "data": {
      "text/html": [
       "<div>\n",
       "<style scoped>\n",
       "    .dataframe tbody tr th:only-of-type {\n",
       "        vertical-align: middle;\n",
       "    }\n",
       "\n",
       "    .dataframe tbody tr th {\n",
       "        vertical-align: top;\n",
       "    }\n",
       "\n",
       "    .dataframe thead th {\n",
       "        text-align: right;\n",
       "    }\n",
       "</style>\n",
       "<table border=\"1\" class=\"dataframe\">\n",
       "  <thead>\n",
       "    <tr style=\"text-align: right;\">\n",
       "      <th></th>\n",
       "      <th>CountyOrParish</th>\n",
       "      <th>CloseDate</th>\n",
       "      <th>OnMarketDate</th>\n",
       "      <th>ListPrice</th>\n",
       "      <th>Matrix_Unique_ID</th>\n",
       "      <th>ClosePrice</th>\n",
       "      <th>OnMarketDays</th>\n",
       "      <th>CloseYearWeek</th>\n",
       "      <th>PriceDifference</th>\n",
       "      <th>PriceRatio</th>\n",
       "      <th>PriceDiffRatio</th>\n",
       "      <th>SixtyDays</th>\n",
       "    </tr>\n",
       "  </thead>\n",
       "  <tbody>\n",
       "    <tr>\n",
       "      <td>0</td>\n",
       "      <td>Los Angeles</td>\n",
       "      <td>2015-01-01</td>\n",
       "      <td>2014-12-10</td>\n",
       "      <td>439900.0</td>\n",
       "      <td>79909382</td>\n",
       "      <td>424000.0</td>\n",
       "      <td>22</td>\n",
       "      <td>2015 - 01</td>\n",
       "      <td>-15900.0</td>\n",
       "      <td>0.963855</td>\n",
       "      <td>-0.036145</td>\n",
       "      <td>&lt; 60 days</td>\n",
       "    </tr>\n",
       "    <tr>\n",
       "      <td>2</td>\n",
       "      <td>Los Angeles</td>\n",
       "      <td>2015-01-01</td>\n",
       "      <td>2014-10-31</td>\n",
       "      <td>429900.0</td>\n",
       "      <td>79238246</td>\n",
       "      <td>415000.0</td>\n",
       "      <td>62</td>\n",
       "      <td>2015 - 01</td>\n",
       "      <td>-14900.0</td>\n",
       "      <td>0.965341</td>\n",
       "      <td>-0.034659</td>\n",
       "      <td>&gt; 60 days</td>\n",
       "    </tr>\n",
       "    <tr>\n",
       "      <td>3</td>\n",
       "      <td>Los Angeles</td>\n",
       "      <td>2015-01-01</td>\n",
       "      <td>2014-10-25</td>\n",
       "      <td>335000.0</td>\n",
       "      <td>72287499</td>\n",
       "      <td>335000.0</td>\n",
       "      <td>68</td>\n",
       "      <td>2015 - 01</td>\n",
       "      <td>0.0</td>\n",
       "      <td>1.000000</td>\n",
       "      <td>0.000000</td>\n",
       "      <td>&gt; 60 days</td>\n",
       "    </tr>\n",
       "    <tr>\n",
       "      <td>4</td>\n",
       "      <td>Los Angeles</td>\n",
       "      <td>2015-01-01</td>\n",
       "      <td>2014-09-05</td>\n",
       "      <td>485000.0</td>\n",
       "      <td>79130647</td>\n",
       "      <td>477000.0</td>\n",
       "      <td>118</td>\n",
       "      <td>2015 - 01</td>\n",
       "      <td>-8000.0</td>\n",
       "      <td>0.983505</td>\n",
       "      <td>-0.016495</td>\n",
       "      <td>&gt; 60 days</td>\n",
       "    </tr>\n",
       "    <tr>\n",
       "      <td>5</td>\n",
       "      <td>Los Angeles</td>\n",
       "      <td>2015-01-01</td>\n",
       "      <td>2014-10-06</td>\n",
       "      <td>1950000.0</td>\n",
       "      <td>79922007</td>\n",
       "      <td>1940000.0</td>\n",
       "      <td>87</td>\n",
       "      <td>2015 - 01</td>\n",
       "      <td>-10000.0</td>\n",
       "      <td>0.994872</td>\n",
       "      <td>-0.005128</td>\n",
       "      <td>&gt; 60 days</td>\n",
       "    </tr>\n",
       "    <tr>\n",
       "      <td>...</td>\n",
       "      <td>...</td>\n",
       "      <td>...</td>\n",
       "      <td>...</td>\n",
       "      <td>...</td>\n",
       "      <td>...</td>\n",
       "      <td>...</td>\n",
       "      <td>...</td>\n",
       "      <td>...</td>\n",
       "      <td>...</td>\n",
       "      <td>...</td>\n",
       "      <td>...</td>\n",
       "      <td>...</td>\n",
       "    </tr>\n",
       "    <tr>\n",
       "      <td>379469</td>\n",
       "      <td>Los Angeles</td>\n",
       "      <td>2019-12-31</td>\n",
       "      <td>2019-11-09</td>\n",
       "      <td>480000.0</td>\n",
       "      <td>325185462</td>\n",
       "      <td>480000.0</td>\n",
       "      <td>52</td>\n",
       "      <td>2019 - 53</td>\n",
       "      <td>0.0</td>\n",
       "      <td>1.000000</td>\n",
       "      <td>0.000000</td>\n",
       "      <td>&lt; 60 days</td>\n",
       "    </tr>\n",
       "    <tr>\n",
       "      <td>379470</td>\n",
       "      <td>Los Angeles</td>\n",
       "      <td>2019-12-31</td>\n",
       "      <td>2019-06-26</td>\n",
       "      <td>2399000.0</td>\n",
       "      <td>312152154</td>\n",
       "      <td>2185000.0</td>\n",
       "      <td>188</td>\n",
       "      <td>2019 - 53</td>\n",
       "      <td>-214000.0</td>\n",
       "      <td>0.910796</td>\n",
       "      <td>-0.089204</td>\n",
       "      <td>&gt; 60 days</td>\n",
       "    </tr>\n",
       "    <tr>\n",
       "      <td>379471</td>\n",
       "      <td>Los Angeles</td>\n",
       "      <td>2019-12-31</td>\n",
       "      <td>2019-11-11</td>\n",
       "      <td>644900.0</td>\n",
       "      <td>325072395</td>\n",
       "      <td>655000.0</td>\n",
       "      <td>50</td>\n",
       "      <td>2019 - 53</td>\n",
       "      <td>10100.0</td>\n",
       "      <td>1.015661</td>\n",
       "      <td>0.015661</td>\n",
       "      <td>&lt; 60 days</td>\n",
       "    </tr>\n",
       "    <tr>\n",
       "      <td>379472</td>\n",
       "      <td>Los Angeles</td>\n",
       "      <td>2019-12-31</td>\n",
       "      <td>2019-12-17</td>\n",
       "      <td>628000.0</td>\n",
       "      <td>326569780</td>\n",
       "      <td>635000.0</td>\n",
       "      <td>14</td>\n",
       "      <td>2019 - 53</td>\n",
       "      <td>7000.0</td>\n",
       "      <td>1.011146</td>\n",
       "      <td>0.011146</td>\n",
       "      <td>&lt; 60 days</td>\n",
       "    </tr>\n",
       "    <tr>\n",
       "      <td>379473</td>\n",
       "      <td>Los Angeles</td>\n",
       "      <td>2019-12-31</td>\n",
       "      <td>2019-09-06</td>\n",
       "      <td>799999.0</td>\n",
       "      <td>319066359</td>\n",
       "      <td>770000.0</td>\n",
       "      <td>116</td>\n",
       "      <td>2019 - 53</td>\n",
       "      <td>-29999.0</td>\n",
       "      <td>0.962501</td>\n",
       "      <td>-0.037499</td>\n",
       "      <td>&gt; 60 days</td>\n",
       "    </tr>\n",
       "  </tbody>\n",
       "</table>\n",
       "<p>251131 rows × 12 columns</p>\n",
       "</div>"
      ],
      "text/plain": [
       "       CountyOrParish   CloseDate OnMarketDate  ListPrice  Matrix_Unique_ID  \\\n",
       "0         Los Angeles  2015-01-01   2014-12-10   439900.0          79909382   \n",
       "2         Los Angeles  2015-01-01   2014-10-31   429900.0          79238246   \n",
       "3         Los Angeles  2015-01-01   2014-10-25   335000.0          72287499   \n",
       "4         Los Angeles  2015-01-01   2014-09-05   485000.0          79130647   \n",
       "5         Los Angeles  2015-01-01   2014-10-06  1950000.0          79922007   \n",
       "...               ...         ...          ...        ...               ...   \n",
       "379469    Los Angeles  2019-12-31   2019-11-09   480000.0         325185462   \n",
       "379470    Los Angeles  2019-12-31   2019-06-26  2399000.0         312152154   \n",
       "379471    Los Angeles  2019-12-31   2019-11-11   644900.0         325072395   \n",
       "379472    Los Angeles  2019-12-31   2019-12-17   628000.0         326569780   \n",
       "379473    Los Angeles  2019-12-31   2019-09-06   799999.0         319066359   \n",
       "\n",
       "        ClosePrice  OnMarketDays CloseYearWeek  PriceDifference  PriceRatio  \\\n",
       "0         424000.0            22     2015 - 01         -15900.0    0.963855   \n",
       "2         415000.0            62     2015 - 01         -14900.0    0.965341   \n",
       "3         335000.0            68     2015 - 01              0.0    1.000000   \n",
       "4         477000.0           118     2015 - 01          -8000.0    0.983505   \n",
       "5        1940000.0            87     2015 - 01         -10000.0    0.994872   \n",
       "...            ...           ...           ...              ...         ...   \n",
       "379469    480000.0            52     2019 - 53              0.0    1.000000   \n",
       "379470   2185000.0           188     2019 - 53        -214000.0    0.910796   \n",
       "379471    655000.0            50     2019 - 53          10100.0    1.015661   \n",
       "379472    635000.0            14     2019 - 53           7000.0    1.011146   \n",
       "379473    770000.0           116     2019 - 53         -29999.0    0.962501   \n",
       "\n",
       "        PriceDiffRatio  SixtyDays  \n",
       "0            -0.036145  < 60 days  \n",
       "2            -0.034659  > 60 days  \n",
       "3             0.000000  > 60 days  \n",
       "4            -0.016495  > 60 days  \n",
       "5            -0.005128  > 60 days  \n",
       "...                ...        ...  \n",
       "379469        0.000000  < 60 days  \n",
       "379470       -0.089204  > 60 days  \n",
       "379471        0.015661  < 60 days  \n",
       "379472        0.011146  < 60 days  \n",
       "379473       -0.037499  > 60 days  \n",
       "\n",
       "[251131 rows x 12 columns]"
      ]
     },
     "execution_count": 178,
     "metadata": {},
     "output_type": "execute_result"
    }
   ],
   "source": [
    "df_LA"
   ]
  },
  {
   "cell_type": "code",
   "execution_count": 298,
   "metadata": {},
   "outputs": [],
   "source": [
    "LA = df_LA.OnMarketDays\n"
   ]
  },
  {
   "cell_type": "code",
   "execution_count": 299,
   "metadata": {},
   "outputs": [],
   "source": [
    "SD = df_SD.OnMarketDays\n"
   ]
  },
  {
   "cell_type": "code",
   "execution_count": 300,
   "metadata": {},
   "outputs": [],
   "source": [
    "tom_LA = df_LA.OnMarketDays.mean()"
   ]
  },
  {
   "cell_type": "code",
   "execution_count": 301,
   "metadata": {},
   "outputs": [],
   "source": [
    "tom_SD = df_SD.OnMarketDays.mean()"
   ]
  },
  {
   "cell_type": "markdown",
   "metadata": {},
   "source": [
    "## Visual check for normality"
   ]
  },
  {
   "cell_type": "code",
   "execution_count": 302,
   "metadata": {},
   "outputs": [
    {
     "data": {
      "text/plain": [
       "<matplotlib.axes._subplots.AxesSubplot at 0x1a2fddc278>"
      ]
     },
     "execution_count": 302,
     "metadata": {},
     "output_type": "execute_result"
    },
    {
     "data": {
      "image/png": "[encoded data removed]",
      "text/plain": [
       "<Figure size 432x288 with 1 Axes>"
      ]
     },
     "metadata": {},
     "output_type": "display_data"
    }
   ],
   "source": [
    "sns.distplot(LA)"
   ]
  },
  {
   "cell_type": "code",
   "execution_count": 441,
   "metadata": {},
   "outputs": [
    {
     "data": {
      "text/plain": [
       "<matplotlib.axes._subplots.AxesSubplot at 0x1a3759af60>"
      ]
     },
     "execution_count": 441,
     "metadata": {},
     "output_type": "execute_result"
    },
    {
     "data": {
      "image/png": "[encoded data removed]",
      "text/plain": [
       "<Figure size 432x288 with 1 Axes>"
      ]
     },
     "metadata": {},
     "output_type": "display_data"
    }
   ],
   "source": [
    "sns.distplot(SD)"
   ]
  },
  {
   "cell_type": "code",
   "execution_count": 42,
   "metadata": {},
   "outputs": [
    {
     "data": {
      "image/png": "[encoded data removed]",
      "text/plain": [
       "<Figure size 576x432 with 1 Axes>"
      ]
     },
     "metadata": {},
     "output_type": "display_data"
    }
   ],
   "source": [
    "plt.figure(figsize = (8,6))\n",
    "sns.distplot(df_LA.OnMarketDays)\n",
    "sns.distplot(df_SD.OnMarketDays)\n",
    "plt.title('Both')\n",
    "sns.set(style = 'darkgrid')"
   ]
  },
  {
   "cell_type": "code",
   "execution_count": null,
   "metadata": {},
   "outputs": [],
   "source": []
  },
  {
   "cell_type": "code",
   "execution_count": null,
   "metadata": {},
   "outputs": [],
   "source": []
  },
  {
   "cell_type": "markdown",
   "metadata": {},
   "source": [
    "## Solving the problem of the tails \n",
    "\n",
    "     - Using 99% quantile to identify the thousands that are shown above because they are extreme outliers\n",
    "     \n",
    "     - Using a conditional to elimnate extreme outliers (thousands of days and negative values)\n",
    "     \n",
    "     -Still allowing for keeping 99% of original data"
   ]
  },
  {
   "cell_type": "code",
   "execution_count": 18,
   "metadata": {},
   "outputs": [],
   "source": [
    "#conditional only keep rows where value is less than 317\n",
    "\n",
    "# tail_df = df.OnMarketDays.quantile(0.99)"
   ]
  },
  {
   "cell_type": "code",
   "execution_count": 19,
   "metadata": {},
   "outputs": [],
   "source": [
    "# tail_df"
   ]
  },
  {
   "cell_type": "code",
   "execution_count": 20,
   "metadata": {},
   "outputs": [],
   "source": [
    "# new_df.head()"
   ]
  },
  {
   "cell_type": "code",
   "execution_count": 21,
   "metadata": {},
   "outputs": [],
   "source": [
    "# new_df = df[(df.OnMarketDays <= 317) & (df.OnMarketDays > 0)] "
   ]
  },
  {
   "cell_type": "code",
   "execution_count": 22,
   "metadata": {},
   "outputs": [],
   "source": [
    "# new_df"
   ]
  },
  {
   "cell_type": "code",
   "execution_count": 23,
   "metadata": {},
   "outputs": [],
   "source": [
    "#conditional only keep rows where value is less than 317\n",
    "\n",
    "\n",
    "# sns.distplot(new_df.OnMarketDays)"
   ]
  },
  {
   "cell_type": "markdown",
   "metadata": {},
   "source": [
    "## Sampling\n",
    "\n",
    " - using bootstrapping to normalize for statistical testing."
   ]
  },
  {
   "cell_type": "code",
   "execution_count": 442,
   "metadata": {},
   "outputs": [
    {
     "data": {
      "text/plain": [
       "pandas.core.series.Series"
      ]
     },
     "execution_count": 442,
     "metadata": {},
     "output_type": "execute_result"
    }
   ],
   "source": [
    "type(LA_tom)"
   ]
  },
  {
   "cell_type": "code",
   "execution_count": 130,
   "metadata": {},
   "outputs": [],
   "source": [
    "rs = np.random.seed(2020)\n",
    "LAlist = []\n",
    "for i in range(0,200):\n",
    "    LAlist.append(LA_tom.sample(1000, replace = True, random_state = rs).mean())"
   ]
  },
  {
   "cell_type": "code",
   "execution_count": 150,
   "metadata": {},
   "outputs": [
    {
     "data": {
      "text/html": [
       "<div>\n",
       "<style scoped>\n",
       "    .dataframe tbody tr th:only-of-type {\n",
       "        vertical-align: middle;\n",
       "    }\n",
       "\n",
       "    .dataframe tbody tr th {\n",
       "        vertical-align: top;\n",
       "    }\n",
       "\n",
       "    .dataframe thead th {\n",
       "        text-align: right;\n",
       "    }\n",
       "</style>\n",
       "<table border=\"1\" class=\"dataframe\">\n",
       "  <thead>\n",
       "    <tr style=\"text-align: right;\">\n",
       "      <th></th>\n",
       "      <th>0</th>\n",
       "    </tr>\n",
       "  </thead>\n",
       "  <tbody>\n",
       "    <tr>\n",
       "      <td>0</td>\n",
       "      <td>74.746</td>\n",
       "    </tr>\n",
       "    <tr>\n",
       "      <td>1</td>\n",
       "      <td>77.254</td>\n",
       "    </tr>\n",
       "    <tr>\n",
       "      <td>2</td>\n",
       "      <td>74.988</td>\n",
       "    </tr>\n",
       "    <tr>\n",
       "      <td>3</td>\n",
       "      <td>74.123</td>\n",
       "    </tr>\n",
       "    <tr>\n",
       "      <td>4</td>\n",
       "      <td>75.743</td>\n",
       "    </tr>\n",
       "    <tr>\n",
       "      <td>...</td>\n",
       "      <td>...</td>\n",
       "    </tr>\n",
       "    <tr>\n",
       "      <td>195</td>\n",
       "      <td>74.225</td>\n",
       "    </tr>\n",
       "    <tr>\n",
       "      <td>196</td>\n",
       "      <td>74.312</td>\n",
       "    </tr>\n",
       "    <tr>\n",
       "      <td>197</td>\n",
       "      <td>71.373</td>\n",
       "    </tr>\n",
       "    <tr>\n",
       "      <td>198</td>\n",
       "      <td>73.861</td>\n",
       "    </tr>\n",
       "    <tr>\n",
       "      <td>199</td>\n",
       "      <td>75.331</td>\n",
       "    </tr>\n",
       "  </tbody>\n",
       "</table>\n",
       "<p>200 rows × 1 columns</p>\n",
       "</div>"
      ],
      "text/plain": [
       "          0\n",
       "0    74.746\n",
       "1    77.254\n",
       "2    74.988\n",
       "3    74.123\n",
       "4    75.743\n",
       "..      ...\n",
       "195  74.225\n",
       "196  74.312\n",
       "197  71.373\n",
       "198  73.861\n",
       "199  75.331\n",
       "\n",
       "[200 rows x 1 columns]"
      ]
     },
     "execution_count": 150,
     "metadata": {},
     "output_type": "execute_result"
    }
   ],
   "source": [
    "LADF = pd.DataFrame(LAlist)\n",
    "LADF"
   ]
  },
  {
   "cell_type": "code",
   "execution_count": 187,
   "metadata": {},
   "outputs": [
    {
     "data": {
      "text/plain": [
       "0    74.714335\n",
       "dtype: float64"
      ]
     },
     "execution_count": 187,
     "metadata": {},
     "output_type": "execute_result"
    }
   ],
   "source": [
    "LADF.mean()"
   ]
  },
  {
   "cell_type": "code",
   "execution_count": 103,
   "metadata": {},
   "outputs": [],
   "source": [
    "rs = np.random.seed(2020)\n",
    "SDlist = []\n",
    "for i in range(0,200):\n",
    "    SDlist.append(SD_tom.sample(1000, replace = True, random_state = rs).mean())"
   ]
  },
  {
   "cell_type": "code",
   "execution_count": 152,
   "metadata": {},
   "outputs": [],
   "source": [
    "SDDF = pd.DataFrame(SDlist)"
   ]
  },
  {
   "cell_type": "code",
   "execution_count": 419,
   "metadata": {},
   "outputs": [
    {
     "data": {
      "text/plain": [
       "0    70.18952\n",
       "dtype: float64"
      ]
     },
     "execution_count": 419,
     "metadata": {},
     "output_type": "execute_result"
    }
   ],
   "source": [
    "SDDF.mean()"
   ]
  },
  {
   "cell_type": "code",
   "execution_count": 251,
   "metadata": {},
   "outputs": [
    {
     "data": {
      "text/plain": [
       "4.524815000000004"
      ]
     },
     "execution_count": 251,
     "metadata": {},
     "output_type": "execute_result"
    }
   ],
   "source": [
    "point_estimate = (LADF.mean() - SDDF.mean())\n",
    "point_estimate.sum()"
   ]
  },
  {
   "cell_type": "markdown",
   "metadata": {},
   "source": [
    "The mean days on market is about 4 more days in LA than San Diego"
   ]
  },
  {
   "cell_type": "markdown",
   "metadata": {},
   "source": [
    " - a better, more pythonic way to do it"
   ]
  },
  {
   "cell_type": "code",
   "execution_count": null,
   "metadata": {},
   "outputs": [],
   "source": [
    "#    \"\"\" Returns the dataframe with only the variables of interest \"\"\"\n",
    " #   rs = np.random.RandomState(seed=2020)\n",
    "  #  means = [pd.DataFrame(df.sample(1000,replace=True,random_state=rs).mean()).T for i in range(n_times)]\n",
    "   # return pd.concat(means) \n",
    "#def CLT_bootstrap(df, n_times=200, n_samples=1000):\n",
    "#    \"\"\" Returns the dataframe with only the variables of interest \"\"\"\n",
    " #   rs = np.random.RandomState(seed=2020)\n",
    "  #  means = [pd.DataFrame(df.sample(1000,replace=True,random_state=rs).mean()).T for i in range(n_times)]\n",
    "   # return pd.concat(means) "
   ]
  },
  {
   "cell_type": "markdown",
   "metadata": {},
   "source": [
    "## Testing for Normality "
   ]
  },
  {
   "cell_type": "code",
   "execution_count": 443,
   "metadata": {},
   "outputs": [
    {
     "data": {
      "text/plain": [
       "NormaltestResult(statistic=1.1732099400468752, pvalue=0.5562124407528757)"
      ]
     },
     "execution_count": 443,
     "metadata": {},
     "output_type": "execute_result"
    }
   ],
   "source": [
    "scipy.stats.normaltest(LAlist)"
   ]
  },
  {
   "cell_type": "code",
   "execution_count": 137,
   "metadata": {},
   "outputs": [
    {
     "data": {
      "text/plain": [
       "NormaltestResult(statistic=1.9297841940653884, pvalue=0.38102431117506586)"
      ]
     },
     "execution_count": 137,
     "metadata": {},
     "output_type": "execute_result"
    }
   ],
   "source": [
    "scipy.stats.normaltest(SDlist)"
   ]
  },
  {
   "cell_type": "code",
   "execution_count": 138,
   "metadata": {},
   "outputs": [
    {
     "data": {
      "text/plain": [
       "<matplotlib.axes._subplots.AxesSubplot at 0x1a2c470dd8>"
      ]
     },
     "execution_count": 138,
     "metadata": {},
     "output_type": "execute_result"
    },
    {
     "data": {
      "image/png": "[encoded data removed]",
      "text/plain": [
       "<Figure size 432x288 with 1 Axes>"
      ]
     },
     "metadata": {},
     "output_type": "display_data"
    }
   ],
   "source": [
    "sns.distplot(SDlist)"
   ]
  },
  {
   "cell_type": "code",
   "execution_count": 140,
   "metadata": {},
   "outputs": [
    {
     "data": {
      "text/plain": [
       "<matplotlib.axes._subplots.AxesSubplot at 0x1a2c404a20>"
      ]
     },
     "execution_count": 140,
     "metadata": {},
     "output_type": "execute_result"
    },
    {
     "data": {
      "image/png": "[encoded data removed]",
      "text/plain": [
       "<Figure size 432x288 with 1 Axes>"
      ]
     },
     "metadata": {},
     "output_type": "display_data"
    }
   ],
   "source": [
    "sns.distplot(LAlist)"
   ]
  },
  {
   "cell_type": "code",
   "execution_count": 139,
   "metadata": {},
   "outputs": [
    {
     "data": {
      "text/plain": [
       "<matplotlib.axes._subplots.AxesSubplot at 0x1a2baedb00>"
      ]
     },
     "execution_count": 139,
     "metadata": {},
     "output_type": "execute_result"
    },
    {
     "data": {
      "image/png": "[encoded data removed]",
      "text/plain": [
       "<Figure size 432x288 with 1 Axes>"
      ]
     },
     "metadata": {},
     "output_type": "display_data"
    }
   ],
   "source": [
    "sns.distplot(LAlist)\n",
    "sns.distplot(SDlist)"
   ]
  },
  {
   "cell_type": "markdown",
   "metadata": {},
   "source": [
    "## Welch's Test\n",
    " - Welch's assumes normality, so I will test the normality because I didnt use CLT\n",
    " \n",
    "The usefulness of the unequal variance t test\n",
    "\n",
    "To interpret any P value, it is essential that the null hypothesis be carefully defined. For the unequal variance t test, the null hypothesis is that the two population means are the same but the two population variances may differ. If the P value is large, you don't reject that null hypothesis, so conclude that the evidence does not persuade you that the two population means are different, even though you assume the two populations have (or may have) different standard deviations. What a strange set of assumptions. What would it mean for two populations to have the same mean but different standard deviations? Why would you want to test for that? Swailowsky points out that this situation simply doesn't often come up in science (1). \n",
    "\n",
    "I think the unequal variance t test is more useful when you think about it as a way to create a confidence interval. Your prime goal is not to ask whether two populations differ, but to quantify how far apart the two means are. The unequal variance t test reports a confidence interval for the difference between two means that is usable even if the standard deviations differ."
   ]
  },
  {
   "cell_type": "code",
   "execution_count": 253,
   "metadata": {},
   "outputs": [
    {
     "data": {
      "text/plain": [
       "Ttest_indResult(statistic=array([30.35195372]), pvalue=array([3.95628357e-104]))"
      ]
     },
     "execution_count": 253,
     "metadata": {},
     "output_type": "execute_result"
    }
   ],
   "source": [
    "scipy.stats.ttest_ind(LADF, SDDF, equal_var = False)"
   ]
  },
  {
   "cell_type": "markdown",
   "metadata": {},
   "source": [
    "According to this test, we should reject the null. Our Pvalue indicates that the mean values are not the same. Next, we should find the signficance of difference in these means. "
   ]
  },
  {
   "cell_type": "markdown",
   "metadata": {},
   "source": [
    "## Confidence Interval"
   ]
  },
  {
   "cell_type": "code",
   "execution_count": 258,
   "metadata": {},
   "outputs": [
    {
     "data": {
      "text/plain": [
       "0    74.714335\n",
       "dtype: float64"
      ]
     },
     "execution_count": 258,
     "metadata": {},
     "output_type": "execute_result"
    }
   ],
   "source": [
    "LADF.mean()"
   ]
  },
  {
   "cell_type": "code",
   "execution_count": 451,
   "metadata": {},
   "outputs": [
    {
     "data": {
      "text/plain": [
       "0    1.624022\n",
       "dtype: float64"
      ]
     },
     "execution_count": 451,
     "metadata": {},
     "output_type": "execute_result"
    }
   ],
   "source": [
    "len(LADF)\n",
    "LADF.std()"
   ]
  },
  {
   "cell_type": "code",
   "execution_count": 445,
   "metadata": {},
   "outputs": [
    {
     "data": {
      "text/plain": [
       "0    74.527839\n",
       "dtype: float64"
      ]
     },
     "execution_count": 445,
     "metadata": {},
     "output_type": "execute_result"
    }
   ],
   "source": [
    "n = len(LADF)\n",
    "LA_CI_lower = (LADF.mean()) - ((LADF.var())/math.sqrt(n))\n",
    "LA_CI_lower"
   ]
  },
  {
   "cell_type": "code",
   "execution_count": 318,
   "metadata": {},
   "outputs": [
    {
     "data": {
      "text/plain": [
       "74.52783929519981"
      ]
     },
     "execution_count": 318,
     "metadata": {},
     "output_type": "execute_result"
    }
   ],
   "source": [
    "LA_CI_lower.values.sum()"
   ]
  },
  {
   "cell_type": "code",
   "execution_count": 322,
   "metadata": {},
   "outputs": [],
   "source": [
    "LA_CI_upper = (LADF.mean()) + math.sqrt(((LADF.var())/n))"
   ]
  },
  {
   "cell_type": "code",
   "execution_count": 323,
   "metadata": {},
   "outputs": [
    {
     "data": {
      "text/plain": [
       "74.82917069894697"
      ]
     },
     "execution_count": 323,
     "metadata": {},
     "output_type": "execute_result"
    }
   ],
   "source": [
    "LA_CI_upper.values.sum()"
   ]
  },
  {
   "cell_type": "code",
   "execution_count": 446,
   "metadata": {},
   "outputs": [
    {
     "name": "stdout",
     "output_type": "stream",
     "text": [
      "74.714335\n"
     ]
    }
   ],
   "source": [
    "print(LADF.mean().sum())"
   ]
  },
  {
   "cell_type": "code",
   "execution_count": null,
   "metadata": {},
   "outputs": [],
   "source": [
    "SD_CI_upper = (SDDF.mean()) + (SDDF.var()/sqrt(n))\n",
    "SD_CI_upper.values.sum()"
   ]
  },
  {
   "cell_type": "code",
   "execution_count": 452,
   "metadata": {},
   "outputs": [
    {
     "data": {
      "text/plain": [
       "68.38210487477387"
      ]
     },
     "execution_count": 452,
     "metadata": {},
     "output_type": "execute_result"
    }
   ],
   "source": [
    "SD_CI_lower = (SDDF.mean()) - SDDF.var()\n",
    "\n",
    "SD_CI_lower.values.sum()"
   ]
  },
  {
   "cell_type": "code",
   "execution_count": 480,
   "metadata": {},
   "outputs": [],
   "source": [
    "def ConInt(sample, z_score):\n",
    "    mean = sample.mean()\n",
    "    variance = sample.var()\n",
    "    n = len(sample)\n",
    "    \n",
    "    CI_upper = (mean + (z_score*(variance/math.sqrt(n))))\n",
    "    CI_lower = (mean - (z_score*(variance/math.sqrt(n))))\n",
    "    return CI_lower, CI_upper\n",
    "                \n",
    "    "
   ]
  },
  {
   "cell_type": "code",
   "execution_count": 481,
   "metadata": {},
   "outputs": [
    {
     "data": {
      "text/plain": [
       "(0    74.233176\n",
       " dtype: float64, 0    75.195494\n",
       " dtype: float64)"
      ]
     },
     "execution_count": 481,
     "metadata": {},
     "output_type": "execute_result"
    }
   ],
   "source": [
    "ConInt(LADF, 2.58)"
   ]
  },
  {
   "cell_type": "markdown",
   "metadata": {},
   "source": [
    "## Plotting to see how it looks"
   ]
  },
  {
   "cell_type": "code",
   "execution_count": 295,
   "metadata": {},
   "outputs": [
    {
     "data": {
      "text/plain": [
       "<matplotlib.collections.LineCollection at 0x1a2c9cdf98>"
      ]
     },
     "execution_count": 295,
     "metadata": {},
     "output_type": "execute_result"
    },
    {
     "data": {
      "image/png": "[encoded data removed]",
      "text/plain": [
       "<Figure size 864x432 with 1 Axes>"
      ]
     },
     "metadata": {},
     "output_type": "display_data"
    }
   ],
   "source": [
    "plt.figure(figsize=(12,6))\n",
    "sns.distplot(LADF)\n",
    "plt.vlines(x = LA_CI_upper, ymin = 0, ymax = 0.3)\n",
    "plt.vlines(x = LA_CI_lower, ymin = 0, ymax = 0.3)\n",
    "plt.vlines(x = tom_LA, ymin = 0, ymax = 0.3, color = 'red')\n",
    "plt.title('Average Time on Market in LA County', fontdict = {'fontsize': 20})\n",
    "plt.xlabel('number of days', fontdict = {'fontsize':15})\n",
    "plt.ylabel('frequency', fontdict = {'fontsize':15})\n",
    "plt.vlines(x = full_df.mean(), ymin = 0, ymax = 0.3, color = 'g')\n",
    "\n",
    "\n",
    "#legend for lines\n"
   ]
  },
  {
   "cell_type": "code",
   "execution_count": 449,
   "metadata": {},
   "outputs": [
    {
     "data": {
      "text/plain": [
       "<matplotlib.collections.LineCollection at 0x1a37788c18>"
      ]
     },
     "execution_count": 449,
     "metadata": {},
     "output_type": "execute_result"
    },
    {
     "data": {
      "image/png": "[encoded data removed]",
      "text/plain": [
       "<Figure size 432x288 with 1 Axes>"
      ]
     },
     "metadata": {},
     "output_type": "display_data"
    }
   ],
   "source": [
    "sns.distplot(SDDF)\n",
    "plt.vlines(x = SD_CI_upper, ymin = 0, ymax = 0.3)\n",
    "plt.vlines(x = CI_lower, ymin = 0, ymax = 0.3)\n",
    "plt.vlines(x = tom_SD, ymin = 0, ymax = 0.3, color = 'red')\n",
    "plt.vlines(x = SDDF.mean(), ymin=0, ymax=0.3, color ='g')\n"
   ]
  },
  {
   "cell_type": "code",
   "execution_count": 437,
   "metadata": {
    "scrolled": true
   },
   "outputs": [
    {
     "data": {
      "text/plain": [
       "<matplotlib.legend.Legend at 0x1a375a7be0>"
      ]
     },
     "execution_count": 437,
     "metadata": {},
     "output_type": "execute_result"
    },
    {
     "data": {
      "image/png": "[encoded data removed]",
      "text/plain": [
       "<Figure size 432x288 with 1 Axes>"
      ]
     },
     "metadata": {},
     "output_type": "display_data"
    }
   ],
   "source": [
    "LA_upper_CI = (LADF.mean() + 2.58*LADF.std())\n",
    "\n",
    "LA_lower_CI = (LADF.mean() - 2.58*LADF.std())\n",
    "\n",
    "SD_upper_CI = (SDDF.mean() + 1.28*SDDF.std())\n",
    "\n",
    "SD_lower_CI = (SDDF.mean() - 1.28*SDDF.std())\n",
    "\n",
    "sns.distplot(LADF, label = 'Bootstrapped LA')\n",
    "sns.distplot(SDDF, label = 'Bootstrapped SD')\n",
    "plt.vlines(x = LA_upper_CI, ymin = 0, ymax = 0.3, color = 'g')\n",
    "plt.vlines(x = LA_lower_CI, ymin = 0, ymax = 0.3, color = 'g')\n",
    "# plt.vlines(x = tom_LA, ymin = 0, ymax = 0.3, color = 'red')\n",
    "\n",
    "plt.vlines(x = SD_upper_CI, ymin = 0, ymax = 0.3)\n",
    "plt.vlines(x = SD_lower_CI, ymin = 0, ymax = 0.3)\n",
    "# # plt.vlines(x = tom_SD, ymin = 0, ymax = 0.3, color = 'g')\n",
    "\n",
    "plt.vlines(x = SDDF.mean(), ymin = 0, ymax = 0.3, linestyles = 'dotted', color = 'r')\n",
    "plt.vlines(x = LADF.mean(), ymin = 0, ymax = 0.3, color = 'r', linestyles = 'dotted')\n",
    "\n",
    "# plt.vlines(x = full_df.mean(), ymin = 0, ymax = 0.3, color = 'g')\n",
    "\n",
    "\n",
    "\n",
    "plt.legend()\n"
   ]
  },
  {
   "cell_type": "code",
   "execution_count": 144,
   "metadata": {},
   "outputs": [],
   "source": [
    "# x_barLA = (statistics.mean(LA))\n",
    "\n",
    "# LAstd = (statistics.stdev(LA, xbar = x_barLA))\n",
    "\n",
    "# x_barSD = statistics.mean(SD)\n",
    "\n",
    "# SDstd = (statistics.stdev(SD, xbar = x_barSD))\n",
    "\n",
    "# print(LAstd)\n",
    "# SDstd\n",
    "\n",
    "\n",
    "\n",
    "# statistics.stdev(LA)"
   ]
  },
  {
   "cell_type": "code",
   "execution_count": 39,
   "metadata": {},
   "outputs": [],
   "source": [
    "# x = LA.OnMarketDays\n",
    "# fig,ax = plt.subplots(3,3,figsize=(9,9))\n",
    "# res, norm_ = scipy.stats.probplot(x/1e3, dist='norm', fit=True, plot=ax[0,0])\n",
    "# ax[0,0].set_title(f'Norm R={round(norm_[2],2)}')\n",
    "# res, lognorm2_ = scipy.stats.probplot(x/1e3, dist='lognorm',sparams=(2,), fit=True, plot=ax[0,1])\n",
    "# ax[0,1].set_title(f'LogNorm R={round(lognorm2_[2],2)}')\n",
    "# res, lognorm2half_ = scipy.stats.probplot(x/1e3, dist='lognorm',sparams=(2.5,), fit=True, plot=ax[0,2])\n",
    "# ax[0,2].set_title(f'LogNorm R={round(lognorm2half_[2],2)}')\n",
    "# res, loggamma2_ = scipy.stats.probplot(x/1e3, dist='loggamma',sparams=(2,), fit=True, plot=ax[1,0])\n",
    "# ax[1,0].set_title(f'LogGamma R={round(loggamma2_[2],2)}')\n",
    "# res, loggamma_ = scipy.stats.probplot(x/1e3, dist='loggamma',sparams=(2,), fit=True, plot=ax[1,1])\n",
    "# ax[1,1].set_title(f'LogGamma R={round(loggamma_[2],2)}')"
   ]
  },
  {
   "cell_type": "markdown",
   "metadata": {},
   "source": [
    "## Measure effect size\n",
    "\n",
    " -- One aspect that is often neglected in the presentation of results is to actually quantify the difference or relationship, called the effect. It can be easy to forget that the intention of an experiment is to quantify an effect.\n",
    " \n",
    " Difference. Statistical methods for quantifying the difference between variables (e.g. difference between means).\n",
    " \n",
    " Cohen suggested that d=0.2 be considered a 'small' effect size, 0.5 represents a 'medium' effect size and 0.8 a 'large' effect size. This means that if two groups' means don't differ by 0.2 standard deviations or more, the difference is trivial, even if it is statistically signficant.\n",
    " "
   ]
  },
  {
   "cell_type": "code",
   "execution_count": 349,
   "metadata": {},
   "outputs": [],
   "source": [
    "def cohen_d(x,y):\n",
    "    nx = len(x)\n",
    "    ny = len(y)\n",
    "    dof = nx + ny - 2\n",
    "    return (x.mean() - y.mean()) / math.sqrt(((nx-1)*(x).std() ** 2 + (ny-1)*y.std() ** 2) / dof)"
   ]
  },
  {
   "cell_type": "code",
   "execution_count": 351,
   "metadata": {},
   "outputs": [
    {
     "data": {
      "text/plain": [
       "0.09957286290937759"
      ]
     },
     "execution_count": 351,
     "metadata": {},
     "output_type": "execute_result"
    }
   ],
   "source": [
    "cohen_d(LA, SD)"
   ]
  },
  {
   "cell_type": "code",
   "execution_count": 352,
   "metadata": {},
   "outputs": [
    {
     "data": {
      "text/plain": [
       "0    3.035195\n",
       "dtype: float64"
      ]
     },
     "execution_count": 352,
     "metadata": {},
     "output_type": "execute_result"
    }
   ],
   "source": [
    "cohen_d(LADF, SDDF)"
   ]
  }
 ],
 "metadata": {
  "kernelspec": {
   "display_name": "Python [conda env:learn-env] *",
   "language": "python",
   "name": "conda-env-learn-env-py"
  },
  "language_info": {
   "codemirror_mode": {
    "name": "ipython",
    "version": 3
   },
   "file_extension": ".py",
   "mimetype": "text/x-python",
   "name": "python",
   "nbconvert_exporter": "python",
   "pygments_lexer": "ipython3",
   "version": "3.6.9"
  }
 },
 "nbformat": 4,
 "nbformat_minor": 2
}
